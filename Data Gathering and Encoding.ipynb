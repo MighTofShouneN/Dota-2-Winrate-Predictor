{
 "cells": [
  {
   "cell_type": "code",
   "execution_count": 1,
   "id": "2cd823eb",
   "metadata": {},
   "outputs": [
    {
     "name": "stdout",
     "output_type": "stream",
     "text": [
      "[{'match_id': 7406030918, 'match_seq_num': 6234232093, 'radiant_win': True, 'start_time': 1698595838, 'duration': 484, 'avg_mmr': 3486, 'num_mmr': 2, 'lobby_type': 7, 'game_mode': 22, 'avg_rank_tier': 42, 'num_rank_tier': 5, 'cluster': 227, 'radiant_team': '35,98,99,26,81', 'dire_team': '42,30,75,101,93'}, {'match_id': 7406023905, 'match_seq_num': 6234235370, 'radiant_win': False, 'start_time': 1698595629, 'duration': 852, 'avg_mmr': 3662, 'num_mmr': 1, 'lobby_type': 0, 'game_mode': 22, 'avg_rank_tier': 42, 'num_rank_tier': 4, 'cluster': 181, 'radiant_team': '63,6,5,71,64', 'dire_team': '40,99,35,36,14'}, {'match_id': 7406019410, 'match_seq_num': 6234219865, 'radiant_win': True, 'start_time': 1698595489, 'duration': 470, 'avg_mmr': None, 'num_mmr': None, 'lobby_type': 0, 'game_mode': 22, 'avg_rank_tier': 41, 'num_rank_tier': 5, 'cluster': 227, 'radiant_team': '74,6,47,96,121', 'dire_team': '7,46,101,9,137'}, {'match_id': 7406016819, 'match_seq_num': 6234216864, 'radiant_win': True, 'start_time': 1698595413, 'duration': 468, 'avg_mmr': 3850, 'num_mmr': 3, 'lobby_type': 0, 'game_mode': 22, 'avg_rank_tier': 43, 'num_rank_tier': 5, 'cluster': 225, 'radiant_team': '44,137,126,73,45', 'dire_team': '54,29,138,69,80'}, {'match_id': 7406016401, 'match_seq_num': 6234243574, 'radiant_win': True, 'start_time': 1698595388, 'duration': 1412, 'avg_mmr': 1896, 'num_mmr': 1, 'lobby_type': 0, 'game_mode': 4, 'avg_rank_tier': 43, 'num_rank_tier': 6, 'cluster': 381, 'radiant_team': '84,95,8,96,83', 'dire_team': '75,49,137,10,45'}, {'match_id': 7406015102, 'match_seq_num': 6234235668, 'radiant_win': True, 'start_time': 1698595358, 'duration': 1146, 'avg_mmr': 3433, 'num_mmr': 3, 'lobby_type': 7, 'game_mode': 22, 'avg_rank_tier': 54, 'num_rank_tier': 7, 'cluster': 181, 'radiant_team': '80,23,75,81,76', 'dire_team': '35,67,62,9,42'}, {'match_id': 7406014915, 'match_seq_num': 6234241783, 'radiant_win': False, 'start_time': 1698595340, 'duration': 1368, 'avg_mmr': 4476, 'num_mmr': 3, 'lobby_type': 0, 'game_mode': 22, 'avg_rank_tier': 55, 'num_rank_tier': 4, 'cluster': 122, 'radiant_team': '93,75,123,96,135', 'dire_team': '113,27,68,35,71'}, {'match_id': 7406014502, 'match_seq_num': 6234222279, 'radiant_win': True, 'start_time': 1698595340, 'duration': 585, 'avg_mmr': 2801, 'num_mmr': 2, 'lobby_type': 7, 'game_mode': 22, 'avg_rank_tier': 42, 'num_rank_tier': 5, 'cluster': 181, 'radiant_team': '70,31,2,46,14', 'dire_team': '99,88,37,11,10'}, {'match_id': 7406013503, 'match_seq_num': 6234240244, 'radiant_win': False, 'start_time': 1698595312, 'duration': 1320, 'avg_mmr': 2665, 'num_mmr': 1, 'lobby_type': 7, 'game_mode': 22, 'avg_rank_tier': 41, 'num_rank_tier': 5, 'cluster': 184, 'radiant_team': '71,95,84,62,15', 'dire_team': '54,121,2,61,30'}, {'match_id': 7406012717, 'match_seq_num': 6234231439, 'radiant_win': True, 'start_time': 1698595268, 'duration': 1087, 'avg_mmr': 2988, 'num_mmr': 3, 'lobby_type': 7, 'game_mode': 22, 'avg_rank_tier': 44, 'num_rank_tier': 8, 'cluster': 227, 'radiant_team': '35,29,110,64,41', 'dire_team': '138,121,36,82,18'}, {'match_id': 7406012203, 'match_seq_num': 6234234087, 'radiant_win': True, 'start_time': 1698595268, 'duration': 1200, 'avg_mmr': 3917, 'num_mmr': 1, 'lobby_type': 7, 'game_mode': 22, 'avg_rank_tier': 43, 'num_rank_tier': 4, 'cluster': 273, 'radiant_team': '5,36,81,101,80', 'dire_team': '135,32,30,14,75'}, {'match_id': 7406011508, 'match_seq_num': 6234240957, 'radiant_win': False, 'start_time': 1698595249, 'duration': 1439, 'avg_mmr': 3944, 'num_mmr': 1, 'lobby_type': 7, 'game_mode': 22, 'avg_rank_tier': 51, 'num_rank_tier': 5, 'cluster': 152, 'radiant_team': '11,8,5,63,119', 'dire_team': '2,81,84,50,97'}, {'match_id': 7406010606, 'match_seq_num': 6234243077, 'radiant_win': False, 'start_time': 1698595189, 'duration': 1543, 'avg_mmr': 1739, 'num_mmr': 1, 'lobby_type': 7, 'game_mode': 22, 'avg_rank_tier': 51, 'num_rank_tier': 3, 'cluster': 122, 'radiant_team': '99,94,62,11,3', 'dire_team': '18,36,50,59,93'}, {'match_id': 7406010114, 'match_seq_num': 6234239267, 'radiant_win': True, 'start_time': 1698595198, 'duration': 1444, 'avg_mmr': 2384, 'num_mmr': 1, 'lobby_type': 7, 'game_mode': 22, 'avg_rank_tier': 51, 'num_rank_tier': 6, 'cluster': 181, 'radiant_team': '53,138,27,113,88', 'dire_team': '21,16,48,5,76'}, {'match_id': 7406010017, 'match_seq_num': 6234243060, 'radiant_win': False, 'start_time': 1698595194, 'duration': 1563, 'avg_mmr': None, 'num_mmr': None, 'lobby_type': 7, 'game_mode': 22, 'avg_rank_tier': 45, 'num_rank_tier': 2, 'cluster': 381, 'radiant_team': '41,104,16,20,13', 'dire_team': '71,11,93,138,129'}, {'match_id': 7406008511, 'match_seq_num': 6234239830, 'radiant_win': True, 'start_time': 1698595154, 'duration': 1512, 'avg_mmr': 2521, 'num_mmr': 2, 'lobby_type': 7, 'game_mode': 22, 'avg_rank_tier': 42, 'num_rank_tier': 4, 'cluster': 183, 'radiant_team': '71,25,14,63,5', 'dire_team': '27,67,114,50,100'}, {'match_id': 7406008506, 'match_seq_num': 6234222919, 'radiant_win': False, 'start_time': 1698595153, 'duration': 924, 'avg_mmr': 3022, 'num_mmr': 2, 'lobby_type': 7, 'game_mode': 22, 'avg_rank_tier': 51, 'num_rank_tier': 6, 'cluster': 184, 'radiant_team': '50,25,74,96,8', 'dire_team': '2,67,53,64,99'}, {'match_id': 7406007807, 'match_seq_num': 6234218580, 'radiant_win': True, 'start_time': 1698595123, 'duration': 782, 'avg_mmr': 3406, 'num_mmr': 1, 'lobby_type': 7, 'game_mode': 22, 'avg_rank_tier': 43, 'num_rank_tier': 4, 'cluster': 182, 'radiant_team': '45,63,56,12,80', 'dire_team': '66,71,84,126,6'}, {'match_id': 7406006808, 'match_seq_num': 6234233002, 'radiant_win': True, 'start_time': 1698595098, 'duration': 1316, 'avg_mmr': 2786, 'num_mmr': 1, 'lobby_type': 7, 'game_mode': 22, 'avg_rank_tier': 43, 'num_rank_tier': 6, 'cluster': 182, 'radiant_team': '11,40,104,81,110', 'dire_team': '93,99,68,14,75'}, {'match_id': 7406006619, 'match_seq_num': 6234233912, 'radiant_win': True, 'start_time': 1698595092, 'duration': 1349, 'avg_mmr': 3788, 'num_mmr': 3, 'lobby_type': 7, 'game_mode': 22, 'avg_rank_tier': 53, 'num_rank_tier': 5, 'cluster': 152, 'radiant_team': '39,2,84,86,109', 'dire_team': '137,50,44,30,68'}, {'match_id': 7406005108, 'match_seq_num': 6234235512, 'radiant_win': False, 'start_time': 1698595043, 'duration': 1466, 'avg_mmr': None, 'num_mmr': None, 'lobby_type': 7, 'game_mode': 22, 'avg_rank_tier': 41, 'num_rank_tier': 2, 'cluster': 225, 'radiant_team': '2,111,67,101,36', 'dire_team': '11,88,64,63,81'}, {'match_id': 7406005014, 'match_seq_num': 6234227844, 'radiant_win': True, 'start_time': 1698595019, 'duration': 1139, 'avg_mmr': 3055, 'num_mmr': 3, 'lobby_type': 7, 'game_mode': 22, 'avg_rank_tier': 45, 'num_rank_tier': 4, 'cluster': 121, 'radiant_team': '44,14,30,99,71', 'dire_team': '37,13,128,100,93'}, {'match_id': 7406004903, 'match_seq_num': 6234213185, 'radiant_win': False, 'start_time': 1698595039, 'duration': 675, 'avg_mmr': None, 'num_mmr': None, 'lobby_type': 0, 'game_mode': 22, 'avg_rank_tier': 44, 'num_rank_tier': 3, 'cluster': 191, 'radiant_team': '41,36,42,112,7', 'dire_team': '50,22,44,9,91'}, {'match_id': 7406004010, 'match_seq_num': 6234238696, 'radiant_win': False, 'start_time': 1698595012, 'duration': 1599, 'avg_mmr': 2733, 'num_mmr': 4, 'lobby_type': 7, 'game_mode': 22, 'avg_rank_tier': 44, 'num_rank_tier': 9, 'cluster': 232, 'radiant_team': '138,128,105,28,67', 'dire_team': '66,53,63,99,47'}, {'match_id': 7406003619, 'match_seq_num': 6234233905, 'radiant_win': True, 'start_time': 1698594998, 'duration': 1453, 'avg_mmr': 5058, 'num_mmr': 2, 'lobby_type': 7, 'game_mode': 22, 'avg_rank_tier': 52, 'num_rank_tier': 6, 'cluster': 152, 'radiant_team': '97,81,8,63,40', 'dire_team': '1,128,10,14,37'}, {'match_id': 7406003204, 'match_seq_num': 6234243639, 'radiant_win': False, 'start_time': 1698594987, 'duration': 1808, 'avg_mmr': 3937, 'num_mmr': 2, 'lobby_type': 7, 'game_mode': 22, 'avg_rank_tier': 53, 'num_rank_tier': 6, 'cluster': 121, 'radiant_team': '51,23,96,44,30', 'dire_team': '5,36,25,71,10'}, {'match_id': 7406002901, 'match_seq_num': 6234241594, 'radiant_win': True, 'start_time': 1698594972, 'duration': 1755, 'avg_mmr': None, 'num_mmr': None, 'lobby_type': 0, 'game_mode': 4, 'avg_rank_tier': 54, 'num_rank_tier': 3, 'cluster': 182, 'radiant_team': '7,53,75,62,71', 'dire_team': '88,37,99,8,64'}, {'match_id': 7406002801, 'match_seq_num': 6234242964, 'radiant_win': False, 'start_time': 1698594973, 'duration': 1822, 'avg_mmr': None, 'num_mmr': None, 'lobby_type': 7, 'game_mode': 22, 'avg_rank_tier': 45, 'num_rank_tier': 6, 'cluster': 184, 'radiant_team': '44,86,87,23,14', 'dire_team': '30,34,80,53,41'}, {'match_id': 7406002701, 'match_seq_num': 6234243687, 'radiant_win': False, 'start_time': 1698594958, 'duration': 1818, 'avg_mmr': None, 'num_mmr': None, 'lobby_type': 0, 'game_mode': 22, 'avg_rank_tier': 51, 'num_rank_tier': 2, 'cluster': 227, 'radiant_team': '110,41,46,30,104', 'dire_team': '93,84,97,76,121'}, {'match_id': 7406002607, 'match_seq_num': 6234241065, 'radiant_win': False, 'start_time': 1698594964, 'duration': 1739, 'avg_mmr': 1228, 'num_mmr': 1, 'lobby_type': 7, 'game_mode': 22, 'avg_rank_tier': 41, 'num_rank_tier': 4, 'cluster': 185, 'radiant_team': '42,44,79,76,22', 'dire_team': '121,63,68,80,23'}, {'match_id': 7406002508, 'match_seq_num': 6234235419, 'radiant_win': True, 'start_time': 1698594934, 'duration': 1509, 'avg_mmr': None, 'num_mmr': None, 'lobby_type': 7, 'game_mode': 22, 'avg_rank_tier': 43, 'num_rank_tier': 4, 'cluster': 251, 'radiant_team': '10,72,41,20,29', 'dire_team': '14,26,74,63,33'}, {'match_id': 7406002112, 'match_seq_num': 6234239424, 'radiant_win': True, 'start_time': 1698594943, 'duration': 1678, 'avg_mmr': 2794, 'num_mmr': 2, 'lobby_type': 7, 'game_mode': 22, 'avg_rank_tier': 42, 'num_rank_tier': 4, 'cluster': 151, 'radiant_team': '81,32,5,59,87', 'dire_team': '42,93,84,37,53'}, {'match_id': 7406002111, 'match_seq_num': 6234238210, 'radiant_win': False, 'start_time': 1698594942, 'duration': 1568, 'avg_mmr': 3334, 'num_mmr': 1, 'lobby_type': 7, 'game_mode': 22, 'avg_rank_tier': 52, 'num_rank_tier': 2, 'cluster': 381, 'radiant_team': '126,101,96,37,93', 'dire_team': '8,45,68,36,23'}, {'match_id': 7406001810, 'match_seq_num': 6234240091, 'radiant_win': True, 'start_time': 1698594942, 'duration': 1755, 'avg_mmr': 3532, 'num_mmr': 2, 'lobby_type': 7, 'game_mode': 22, 'avg_rank_tier': 53, 'num_rank_tier': 6, 'cluster': 181, 'radiant_team': '31,63,81,113,36', 'dire_team': '71,76,108,14,138'}, {'match_id': 7406000807, 'match_seq_num': 6234242338, 'radiant_win': True, 'start_time': 1698594912, 'duration': 1834, 'avg_mmr': None, 'num_mmr': None, 'lobby_type': 0, 'game_mode': 22, 'avg_rank_tier': 42, 'num_rank_tier': 3, 'cluster': 153, 'radiant_team': '32,39,75,104,35', 'dire_team': '7,10,121,99,76'}, {'match_id': 7406000703, 'match_seq_num': 6234237975, 'radiant_win': True, 'start_time': 1698594908, 'duration': 1679, 'avg_mmr': None, 'num_mmr': None, 'lobby_type': 7, 'game_mode': 22, 'avg_rank_tier': 55, 'num_rank_tier': 4, 'cluster': 272, 'radiant_team': '42,85,137,59,37', 'dire_team': '14,86,23,41,71'}, {'match_id': 7406000519, 'match_seq_num': 6234231846, 'radiant_win': True, 'start_time': 1698594903, 'duration': 1478, 'avg_mmr': 3202, 'num_mmr': 1, 'lobby_type': 7, 'game_mode': 22, 'avg_rank_tier': 45, 'num_rank_tier': 4, 'cluster': 274, 'radiant_team': '62,45,5,36,99', 'dire_team': '14,26,42,126,67'}, {'match_id': 7405999313, 'match_seq_num': 6234242227, 'radiant_win': False, 'start_time': 1698594853, 'duration': 1808, 'avg_mmr': 3918, 'num_mmr': 1, 'lobby_type': 7, 'game_mode': 22, 'avg_rank_tier': 43, 'num_rank_tier': 4, 'cluster': 152, 'radiant_team': '86,29,36,48,30', 'dire_team': '44,2,87,68,23'}, {'match_id': 7405999013, 'match_seq_num': 6234242133, 'radiant_win': True, 'start_time': 1698594853, 'duration': 1888, 'avg_mmr': 2948, 'num_mmr': 1, 'lobby_type': 0, 'game_mode': 22, 'avg_rank_tier': 44, 'num_rank_tier': 5, 'cluster': 273, 'radiant_team': '135,18,17,42,50', 'dire_team': '6,25,100,54,120'}, {'match_id': 7405999000, 'match_seq_num': 6234240705, 'radiant_win': False, 'start_time': 1698594843, 'duration': 1851, 'avg_mmr': 4159, 'num_mmr': 1, 'lobby_type': 7, 'game_mode': 22, 'avg_rank_tier': 45, 'num_rank_tier': 9, 'cluster': 227, 'radiant_team': '80,14,96,56,75', 'dire_team': '84,36,37,81,28'}, {'match_id': 7405998901, 'match_seq_num': 6234237194, 'radiant_win': True, 'start_time': 1698594839, 'duration': 1703, 'avg_mmr': 3581, 'num_mmr': 1, 'lobby_type': 7, 'game_mode': 22, 'avg_rank_tier': 51, 'num_rank_tier': 4, 'cluster': 185, 'radiant_team': '28,1,36,75,58', 'dire_team': '138,42,62,77,88'}, {'match_id': 7405998812, 'match_seq_num': 6234229986, 'radiant_win': True, 'start_time': 1698594848, 'duration': 1465, 'avg_mmr': 1923, 'num_mmr': 1, 'lobby_type': 7, 'game_mode': 22, 'avg_rank_tier': 51, 'num_rank_tier': 5, 'cluster': 152, 'radiant_team': '48,114,26,28,100', 'dire_team': '126,42,14,80,62'}, {'match_id': 7405998705, 'match_seq_num': 6234242525, 'radiant_win': False, 'start_time': 1698594843, 'duration': 1893, 'avg_mmr': None, 'num_mmr': None, 'lobby_type': 7, 'game_mode': 22, 'avg_rank_tier': 43, 'num_rank_tier': 7, 'cluster': 183, 'radiant_team': '46,27,2,30,44', 'dire_team': '20,119,106,63,60'}, {'match_id': 7405998700, 'match_seq_num': 6234239132, 'radiant_win': False, 'start_time': 1698594842, 'duration': 1816, 'avg_mmr': None, 'num_mmr': None, 'lobby_type': 7, 'game_mode': 22, 'avg_rank_tier': 42, 'num_rank_tier': 5, 'cluster': 272, 'radiant_team': '2,128,30,8,9', 'dire_team': '6,23,37,68,81'}, {'match_id': 7405998418, 'match_seq_num': 6234236270, 'radiant_win': True, 'start_time': 1698594824, 'duration': 1715, 'avg_mmr': 4640, 'num_mmr': 1, 'lobby_type': 7, 'game_mode': 22, 'avg_rank_tier': 43, 'num_rank_tier': 5, 'cluster': 191, 'radiant_team': '99,75,30,10,76', 'dire_team': '7,6,68,2,138'}, {'match_id': 7405998117, 'match_seq_num': 6234237708, 'radiant_win': True, 'start_time': 1698594827, 'duration': 1701, 'avg_mmr': 1573, 'num_mmr': 1, 'lobby_type': 7, 'game_mode': 22, 'avg_rank_tier': 43, 'num_rank_tier': 5, 'cluster': 271, 'radiant_team': '97,85,14,92,44', 'dire_team': '30,50,51,60,1'}, {'match_id': 7405998113, 'match_seq_num': 6234235594, 'radiant_win': False, 'start_time': 1698594824, 'duration': 1571, 'avg_mmr': 2349, 'num_mmr': 4, 'lobby_type': 0, 'game_mode': 22, 'avg_rank_tier': 55, 'num_rank_tier': 9, 'cluster': 152, 'radiant_team': '99,138,52,53,111', 'dire_team': '101,30,1,45,107'}, {'match_id': 7405998010, 'match_seq_num': 6234239867, 'radiant_win': True, 'start_time': 1698594822, 'duration': 1838, 'avg_mmr': 4000, 'num_mmr': 3, 'lobby_type': 7, 'game_mode': 22, 'avg_rank_tier': 44, 'num_rank_tier': 3, 'cluster': 145, 'radiant_team': '119,10,35,71,42', 'dire_team': '14,79,28,20,138'}, {'match_id': 7405998003, 'match_seq_num': 6234239196, 'radiant_win': False, 'start_time': 1698594813, 'duration': 1794, 'avg_mmr': 2957, 'num_mmr': 3, 'lobby_type': 7, 'game_mode': 22, 'avg_rank_tier': 44, 'num_rank_tier': 6, 'cluster': 181, 'radiant_team': '56,135,138,23,26', 'dire_team': '106,70,36,121,86'}, {'match_id': 7405997705, 'match_seq_num': 6234237531, 'radiant_win': False, 'start_time': 1698594802, 'duration': 1783, 'avg_mmr': None, 'num_mmr': None, 'lobby_type': 0, 'game_mode': 22, 'avg_rank_tier': 53, 'num_rank_tier': 2, 'cluster': 227, 'radiant_team': '36,22,98,102,44', 'dire_team': '18,27,29,11,84'}, {'match_id': 7405996909, 'match_seq_num': 6234232335, 'radiant_win': True, 'start_time': 1698594779, 'duration': 1611, 'avg_mmr': 1890, 'num_mmr': 1, 'lobby_type': 7, 'game_mode': 22, 'avg_rank_tier': 44, 'num_rank_tier': 4, 'cluster': 227, 'radiant_team': '27,29,15,138,64', 'dire_team': '102,93,42,71,53'}, {'match_id': 7405996908, 'match_seq_num': 6234240753, 'radiant_win': True, 'start_time': 1698594773, 'duration': 1910, 'avg_mmr': 4084, 'num_mmr': 1, 'lobby_type': 7, 'game_mode': 22, 'avg_rank_tier': 51, 'num_rank_tier': 7, 'cluster': 183, 'radiant_team': '50,48,96,86,22', 'dire_team': '35,9,18,29,26'}, {'match_id': 7405996816, 'match_seq_num': 6234243562, 'radiant_win': True, 'start_time': 1698594772, 'duration': 2019, 'avg_mmr': 3059, 'num_mmr': 1, 'lobby_type': 7, 'game_mode': 22, 'avg_rank_tier': 42, 'num_rank_tier': 4, 'cluster': 152, 'radiant_team': '31,109,101,30,99', 'dire_team': '8,6,138,27,120'}, {'match_id': 7405996801, 'match_seq_num': 6234227042, 'radiant_win': True, 'start_time': 1698594773, 'duration': 1431, 'avg_mmr': 3345, 'num_mmr': 3, 'lobby_type': 7, 'game_mode': 22, 'avg_rank_tier': 51, 'num_rank_tier': 4, 'cluster': 192, 'radiant_team': '93,26,2,83,128', 'dire_team': '85,36,48,129,62'}, {'match_id': 7405996712, 'match_seq_num': 6234238850, 'radiant_win': True, 'start_time': 1698594774, 'duration': 1847, 'avg_mmr': 3889, 'num_mmr': 2, 'lobby_type': 7, 'game_mode': 22, 'avg_rank_tier': 55, 'num_rank_tier': 4, 'cluster': 121, 'radiant_team': '101,31,1,71,36', 'dire_team': '57,63,87,26,8'}, {'match_id': 7405996603, 'match_seq_num': 6234242731, 'radiant_win': True, 'start_time': 1698594778, 'duration': 1973, 'avg_mmr': 4191, 'num_mmr': 1, 'lobby_type': 0, 'game_mode': 22, 'avg_rank_tier': 43, 'num_rank_tier': 3, 'cluster': 181, 'radiant_team': '88,111,18,67,6', 'dire_team': '80,85,96,10,1'}, {'match_id': 7405996513, 'match_seq_num': 6234228077, 'radiant_win': True, 'start_time': 1698594743, 'duration': 1499, 'avg_mmr': 3580, 'num_mmr': 1, 'lobby_type': 0, 'game_mode': 4, 'avg_rank_tier': 53, 'num_rank_tier': 6, 'cluster': 274, 'radiant_team': '91,35,19,114,104', 'dire_team': '128,64,87,20,60'}, {'match_id': 7405996311, 'match_seq_num': 6234231878, 'radiant_win': True, 'start_time': 1698594769, 'duration': 1595, 'avg_mmr': 2396, 'num_mmr': 2, 'lobby_type': 7, 'game_mode': 22, 'avg_rank_tier': 52, 'num_rank_tier': 5, 'cluster': 152, 'radiant_team': '21,28,114,23,88', 'dire_team': '20,81,70,26,74'}, {'match_id': 7405996202, 'match_seq_num': 6234233745, 'radiant_win': True, 'start_time': 1698594762, 'duration': 1710, 'avg_mmr': None, 'num_mmr': None, 'lobby_type': 0, 'game_mode': 4, 'avg_rank_tier': 44, 'num_rank_tier': 6, 'cluster': 185, 'radiant_team': '104,27,71,8,50', 'dire_team': '56,67,53,74,60'}, {'match_id': 7405995913, 'match_seq_num': 6234238192, 'radiant_win': True, 'start_time': 1698594757, 'duration': 1835, 'avg_mmr': None, 'num_mmr': None, 'lobby_type': 7, 'game_mode': 22, 'avg_rank_tier': 41, 'num_rank_tier': 2, 'cluster': 251, 'radiant_team': '12,16,93,68,14', 'dire_team': '41,50,28,44,73'}, {'match_id': 7405995902, 'match_seq_num': 6234241249, 'radiant_win': True, 'start_time': 1698594752, 'duration': 1957, 'avg_mmr': None, 'num_mmr': None, 'lobby_type': 0, 'game_mode': 22, 'avg_rank_tier': 51, 'num_rank_tier': 5, 'cluster': 151, 'radiant_team': '74,138,81,40,113', 'dire_team': '42,57,88,36,20'}, {'match_id': 7405995811, 'match_seq_num': 6234226563, 'radiant_win': False, 'start_time': 1698594749, 'duration': 1468, 'avg_mmr': 3638, 'num_mmr': 1, 'lobby_type': 0, 'game_mode': 4, 'avg_rank_tier': 54, 'num_rank_tier': 2, 'cluster': 274, 'radiant_team': '7,15,56,97,12', 'dire_team': '137,42,68,86,17'}, {'match_id': 7405995808, 'match_seq_num': 6234234141, 'radiant_win': False, 'start_time': 1698594742, 'duration': 1692, 'avg_mmr': 4056, 'num_mmr': 2, 'lobby_type': 7, 'game_mode': 22, 'avg_rank_tier': 54, 'num_rank_tier': 5, 'cluster': 152, 'radiant_team': '48,99,50,37,3', 'dire_team': '121,107,11,16,81'}, {'match_id': 7405995614, 'match_seq_num': 6234224075, 'radiant_win': True, 'start_time': 1698594747, 'duration': 1349, 'avg_mmr': 2369, 'num_mmr': 2, 'lobby_type': 7, 'game_mode': 22, 'avg_rank_tier': 52, 'num_rank_tier': 4, 'cluster': 251, 'radiant_team': '58,31,80,42,99', 'dire_team': '119,88,5,14,48'}, {'match_id': 7405995607, 'match_seq_num': 6234239086, 'radiant_win': True, 'start_time': 1698594744, 'duration': 1902, 'avg_mmr': 1831, 'num_mmr': 2, 'lobby_type': 7, 'game_mode': 22, 'avg_rank_tier': 54, 'num_rank_tier': 7, 'cluster': 181, 'radiant_team': '101,45,67,2,50', 'dire_team': '14,71,97,119,44'}, {'match_id': 7405995409, 'match_seq_num': 6234231268, 'radiant_win': True, 'start_time': 1698594729, 'duration': 1616, 'avg_mmr': 3179, 'num_mmr': 2, 'lobby_type': 7, 'game_mode': 22, 'avg_rank_tier': 51, 'num_rank_tier': 8, 'cluster': 272, 'radiant_team': '83,85,6,14,30', 'dire_team': '20,71,100,22,67'}, {'match_id': 7405995014, 'match_seq_num': 6234229143, 'radiant_win': True, 'start_time': 1698594729, 'duration': 1594, 'avg_mmr': 2630, 'num_mmr': 1, 'lobby_type': 0, 'game_mode': 4, 'avg_rank_tier': 43, 'num_rank_tier': 3, 'cluster': 182, 'radiant_team': '138,61,21,84,137', 'dire_team': '83,4,30,128,19'}, {'match_id': 7405994608, 'match_seq_num': 6234238823, 'radiant_win': False, 'start_time': 1698594717, 'duration': 1919, 'avg_mmr': 3268, 'num_mmr': 1, 'lobby_type': 7, 'game_mode': 22, 'avg_rank_tier': 44, 'num_rank_tier': 6, 'cluster': 273, 'radiant_team': '30,93,11,121,98', 'dire_team': '99,123,138,32,91'}, {'match_id': 7405994602, 'match_seq_num': 6234224801, 'radiant_win': False, 'start_time': 1698594713, 'duration': 1418, 'avg_mmr': 3287, 'num_mmr': 1, 'lobby_type': 7, 'game_mode': 22, 'avg_rank_tier': 53, 'num_rank_tier': 3, 'cluster': 273, 'radiant_team': '75,42,63,64,36', 'dire_team': '14,2,71,26,96'}, {'match_id': 7405994415, 'match_seq_num': 6234241279, 'radiant_win': True, 'start_time': 1698594688, 'duration': 1941, 'avg_mmr': 1131, 'num_mmr': 1, 'lobby_type': 7, 'game_mode': 22, 'avg_rank_tier': 45, 'num_rank_tier': 4, 'cluster': 184, 'radiant_team': '35,37,96,128,54', 'dire_team': '97,121,14,10,60'}, {'match_id': 7405994318, 'match_seq_num': 6234233359, 'radiant_win': True, 'start_time': 1698594698, 'duration': 1727, 'avg_mmr': 4156, 'num_mmr': 1, 'lobby_type': 7, 'game_mode': 22, 'avg_rank_tier': 52, 'num_rank_tier': 4, 'cluster': 153, 'radiant_team': '74,129,53,54,36', 'dire_team': '71,17,41,84,47'}, {'match_id': 7405994206, 'match_seq_num': 6234229727, 'radiant_win': False, 'start_time': 1698594703, 'duration': 1591, 'avg_mmr': 2124, 'num_mmr': 1, 'lobby_type': 7, 'game_mode': 22, 'avg_rank_tier': 42, 'num_rank_tier': 4, 'cluster': 274, 'radiant_team': '68,121,96,72,78', 'dire_team': '95,22,14,64,36'}, {'match_id': 7405994201, 'match_seq_num': 6234243525, 'radiant_win': False, 'start_time': 1698594702, 'duration': 2089, 'avg_mmr': None, 'num_mmr': None, 'lobby_type': 7, 'game_mode': 22, 'avg_rank_tier': 41, 'num_rank_tier': 3, 'cluster': 144, 'radiant_team': '20,101,89,70,19', 'dire_team': '121,83,76,51,63'}, {'match_id': 7405993915, 'match_seq_num': 6234235627, 'radiant_win': False, 'start_time': 1698594693, 'duration': 1823, 'avg_mmr': None, 'num_mmr': None, 'lobby_type': 7, 'game_mode': 22, 'avg_rank_tier': 51, 'num_rank_tier': 5, 'cluster': 183, 'radiant_team': '6,9,74,99,53', 'dire_team': '103,81,23,86,2'}, {'match_id': 7405993717, 'match_seq_num': 6234237023, 'radiant_win': False, 'start_time': 1698594683, 'duration': 1845, 'avg_mmr': 1846, 'num_mmr': 1, 'lobby_type': 7, 'game_mode': 22, 'avg_rank_tier': 43, 'num_rank_tier': 4, 'cluster': 184, 'radiant_team': '100,10,93,11,86', 'dire_team': '6,50,42,58,36'}, {'match_id': 7405993715, 'match_seq_num': 6234242114, 'radiant_win': False, 'start_time': 1698594677, 'duration': 2066, 'avg_mmr': None, 'num_mmr': None, 'lobby_type': 7, 'game_mode': 22, 'avg_rank_tier': 42, 'num_rank_tier': 4, 'cluster': 182, 'radiant_team': '42,57,67,31,40', 'dire_team': '136,81,54,88,14'}, {'match_id': 7405993619, 'match_seq_num': 6234230440, 'radiant_win': True, 'start_time': 1698594683, 'duration': 1590, 'avg_mmr': None, 'num_mmr': None, 'lobby_type': 7, 'game_mode': 22, 'avg_rank_tier': 41, 'num_rank_tier': 3, 'cluster': 182, 'radiant_team': '27,101,12,29,103', 'dire_team': '107,41,58,31,99'}, {'match_id': 7405993616, 'match_seq_num': 6234243163, 'radiant_win': False, 'start_time': 1698594679, 'duration': 2068, 'avg_mmr': 3868, 'num_mmr': 3, 'lobby_type': 7, 'game_mode': 3, 'avg_rank_tier': 51, 'num_rank_tier': 5, 'cluster': 227, 'radiant_team': '60,123,138,100,93', 'dire_team': '84,121,71,105,72'}, {'match_id': 7405993509, 'match_seq_num': 6234242064, 'radiant_win': True, 'start_time': 1698594682, 'duration': 2083, 'avg_mmr': None, 'num_mmr': None, 'lobby_type': 7, 'game_mode': 22, 'avg_rank_tier': 41, 'num_rank_tier': 4, 'cluster': 184, 'radiant_team': '53,54,99,27,74', 'dire_team': '10,6,121,88,71'}, {'match_id': 7405993204, 'match_seq_num': 6234222834, 'radiant_win': True, 'start_time': 1698594672, 'duration': 1394, 'avg_mmr': 2998, 'num_mmr': 1, 'lobby_type': 7, 'game_mode': 22, 'avg_rank_tier': 45, 'num_rank_tier': 3, 'cluster': 152, 'radiant_team': '8,99,31,36,91', 'dire_team': '93,112,7,106,104'}, {'match_id': 7405992918, 'match_seq_num': 6234224832, 'radiant_win': True, 'start_time': 1698594662, 'duration': 1457, 'avg_mmr': 3080, 'num_mmr': 1, 'lobby_type': 7, 'game_mode': 22, 'avg_rank_tier': 55, 'num_rank_tier': 8, 'cluster': 227, 'radiant_team': '6,15,75,56,84', 'dire_team': '86,10,45,29,14'}, {'match_id': 7405992907, 'match_seq_num': 6234228089, 'radiant_win': True, 'start_time': 1698594653, 'duration': 1576, 'avg_mmr': 2752, 'num_mmr': 2, 'lobby_type': 7, 'game_mode': 22, 'avg_rank_tier': 51, 'num_rank_tier': 3, 'cluster': 145, 'radiant_team': '56,76,99,84,75', 'dire_team': '7,37,107,97,48'}, {'match_id': 7405992713, 'match_seq_num': 6234238568, 'radiant_win': True, 'start_time': 1698594658, 'duration': 1972, 'avg_mmr': 3247, 'num_mmr': 1, 'lobby_type': 7, 'game_mode': 22, 'avg_rank_tier': 44, 'num_rank_tier': 4, 'cluster': 273, 'radiant_team': '112,67,30,35,96', 'dire_team': '28,119,14,47,71'}, {'match_id': 7405992601, 'match_seq_num': 6234239764, 'radiant_win': True, 'start_time': 1698594653, 'duration': 1970, 'avg_mmr': 3862, 'num_mmr': 1, 'lobby_type': 7, 'game_mode': 22, 'avg_rank_tier': 53, 'num_rank_tier': 2, 'cluster': 185, 'radiant_team': '14,100,32,99,16', 'dire_team': '2,71,25,93,86'}, {'match_id': 7405992515, 'match_seq_num': 6234215095, 'radiant_win': True, 'start_time': 1698594648, 'duration': 1048, 'avg_mmr': 3134, 'num_mmr': 2, 'lobby_type': 7, 'game_mode': 22, 'avg_rank_tier': 45, 'num_rank_tier': 4, 'cluster': 184, 'radiant_team': '68,63,119,29,21', 'dire_team': '23,81,40,8,25'}, {'match_id': 7405992103, 'match_seq_num': 6234240507, 'radiant_win': True, 'start_time': 1698594637, 'duration': 2050, 'avg_mmr': 3477, 'num_mmr': 2, 'lobby_type': 7, 'game_mode': 3, 'avg_rank_tier': 41, 'num_rank_tier': 7, 'cluster': 232, 'radiant_team': '79,108,14,69,12', 'dire_team': '56,36,2,101,26'}, {'match_id': 7405992017, 'match_seq_num': 6234236621, 'radiant_win': True, 'start_time': 1698594634, 'duration': 1690, 'avg_mmr': 2222, 'num_mmr': 1, 'lobby_type': 7, 'game_mode': 22, 'avg_rank_tier': 41, 'num_rank_tier': 2, 'cluster': 152, 'radiant_team': '114,11,68,53,81', 'dire_team': '18,25,14,16,85'}, {'match_id': 7405992016, 'match_seq_num': 6234234216, 'radiant_win': True, 'start_time': 1698594634, 'duration': 1825, 'avg_mmr': 2600, 'num_mmr': 1, 'lobby_type': 7, 'game_mode': 22, 'avg_rank_tier': 52, 'num_rank_tier': 5, 'cluster': 152, 'radiant_team': '111,25,67,62,135', 'dire_team': '39,44,71,99,45'}, {'match_id': 7405992001, 'match_seq_num': 6234239068, 'radiant_win': True, 'start_time': 1698594627, 'duration': 2024, 'avg_mmr': 3040, 'num_mmr': 1, 'lobby_type': 0, 'game_mode': 4, 'avg_rank_tier': 51, 'num_rank_tier': 4, 'cluster': 271, 'radiant_team': '6,5,39,2,85', 'dire_team': '18,75,80,53,82'}, {'match_id': 7405991812, 'match_seq_num': 6234225621, 'radiant_win': False, 'start_time': 1698594604, 'duration': 1519, 'avg_mmr': 3110, 'num_mmr': 1, 'lobby_type': 7, 'game_mode': 22, 'avg_rank_tier': 44, 'num_rank_tier': 4, 'cluster': 346, 'radiant_team': '14,93,101,36,52', 'dire_team': '40,25,53,69,44'}, {'match_id': 7405991714, 'match_seq_num': 6234218561, 'radiant_win': True, 'start_time': 1698594618, 'duration': 1290, 'avg_mmr': None, 'num_mmr': None, 'lobby_type': 0, 'game_mode': 4, 'avg_rank_tier': 54, 'num_rank_tier': 3, 'cluster': 202, 'radiant_team': '79,6,81,90,71', 'dire_team': '104,62,8,109,111'}, {'match_id': 7405991713, 'match_seq_num': 6234193953, 'radiant_win': True, 'start_time': 1698594617, 'duration': 387, 'avg_mmr': None, 'num_mmr': None, 'lobby_type': 0, 'game_mode': 22, 'avg_rank_tier': 52, 'num_rank_tier': 2, 'cluster': 271, 'radiant_team': '5,82,74,81,57', 'dire_team': '63,7,12,101,68'}, {'match_id': 7405991419, 'match_seq_num': 6234232342, 'radiant_win': True, 'start_time': 1698594609, 'duration': 1774, 'avg_mmr': None, 'num_mmr': None, 'lobby_type': 7, 'game_mode': 22, 'avg_rank_tier': 52, 'num_rank_tier': 2, 'cluster': 251, 'radiant_team': '107,76,8,31,57', 'dire_team': '99,30,35,44,101'}, {'match_id': 7405991416, 'match_seq_num': 6234238777, 'radiant_win': True, 'start_time': 1698594604, 'duration': 2018, 'avg_mmr': 2051, 'num_mmr': 1, 'lobby_type': 7, 'game_mode': 22, 'avg_rank_tier': 52, 'num_rank_tier': 4, 'cluster': 274, 'radiant_team': '110,35,2,20,34', 'dire_team': '128,138,85,63,7'}, {'match_id': 7405991200, 'match_seq_num': 6234233823, 'radiant_win': False, 'start_time': 1698594608, 'duration': 1821, 'avg_mmr': 2718, 'num_mmr': 2, 'lobby_type': 7, 'game_mode': 22, 'avg_rank_tier': 41, 'num_rank_tier': 5, 'cluster': 154, 'radiant_team': '87,97,71,74,70', 'dire_team': '81,6,37,22,14'}, {'match_id': 7405991007, 'match_seq_num': 6234218954, 'radiant_win': True, 'start_time': 1698594604, 'duration': 1337, 'avg_mmr': 3696, 'num_mmr': 4, 'lobby_type': 7, 'game_mode': 3, 'avg_rank_tier': 53, 'num_rank_tier': 4, 'cluster': 223, 'radiant_team': '35,50,28,71,8', 'dire_team': '104,80,95,75,47'}, {'match_id': 7405991004, 'match_seq_num': 6234236874, 'radiant_win': True, 'start_time': 1698594603, 'duration': 1919, 'avg_mmr': 3315, 'num_mmr': 2, 'lobby_type': 7, 'game_mode': 22, 'avg_rank_tier': 41, 'num_rank_tier': 5, 'cluster': 152, 'radiant_team': '8,31,16,26,39', 'dire_team': '14,58,44,63,135'}, {'match_id': 7405990914, 'match_seq_num': 6234238088, 'radiant_win': True, 'start_time': 1698594599, 'duration': 1991, 'avg_mmr': 4772, 'num_mmr': 1, 'lobby_type': 7, 'game_mode': 22, 'avg_rank_tier': 53, 'num_rank_tier': 9, 'cluster': 154, 'radiant_team': '126,53,50,46,30', 'dire_team': '121,75,99,120,25'}, {'match_id': 7405990802, 'match_seq_num': 6234233722, 'radiant_win': True, 'start_time': 1698594580, 'duration': 1794, 'avg_mmr': 2214, 'num_mmr': 1, 'lobby_type': 7, 'game_mode': 22, 'avg_rank_tier': 41, 'num_rank_tier': 2, 'cluster': 251, 'radiant_team': '85,63,99,36,27', 'dire_team': '74,35,44,100,50'}, {'match_id': 7405990709, 'match_seq_num': 6234226536, 'radiant_win': True, 'start_time': 1698594593, 'duration': 1604, 'avg_mmr': None, 'num_mmr': None, 'lobby_type': 7, 'game_mode': 22, 'avg_rank_tier': 42, 'num_rank_tier': 7, 'cluster': 184, 'radiant_team': '81,62,89,35,26', 'dire_team': '94,74,121,86,80'}]\n"
     ]
    }
   ],
   "source": [
    "import requests\n",
    "\n",
    "# Public matches URL\n",
    "url = \"https://api.opendota.com/api/publicMatches\"\n",
    "\n",
    "# Define query parameters\n",
    "params = {\n",
    "    \"min_rank\": 40,\n",
    "    \"max_rank\": 60\n",
    "}\n",
    "\n",
    "# Send GET request with query parameters\n",
    "response = requests.get(url, params=params)\n",
    "\n",
    "# Print the response\n",
    "print(response.json())"
   ]
  },
  {
   "cell_type": "code",
   "execution_count": 2,
   "id": "4cdb3d2a",
   "metadata": {},
   "outputs": [
    {
     "name": "stdout",
     "output_type": "stream",
     "text": [
      "https://api.opendota.com/api/publicMatches?min_rank=40&max_rank=60\n"
     ]
    }
   ],
   "source": [
    "import requests\n",
    "from urllib.parse import urlencode\n",
    "\n",
    "# Public matches base URL\n",
    "base_url = \"https://api.opendota.com/api/publicMatches\"\n",
    "\n",
    "# Define query parameters\n",
    "params = {\n",
    "    \"min_rank\": 40,\n",
    "    \"max_rank\": 60\n",
    "}\n",
    "\n",
    "# Encode and append query parameters to the base URL\n",
    "url = base_url + \"?\" + urlencode(params)\n",
    "\n",
    "# Print the modified URL\n",
    "print(url)"
   ]
  },
  {
   "cell_type": "code",
   "execution_count": 51,
   "id": "57b4a4eb",
   "metadata": {},
   "outputs": [
    {
     "name": "stdout",
     "output_type": "stream",
     "text": [
      "CSV file saved successfully!\n"
     ]
    }
   ],
   "source": [
    "import requests\n",
    "import json\n",
    "import csv\n",
    "\n",
    "response = requests.get(\"https://api.opendota.com/api/publicMatches?max_rank=40\")\n",
    "data = response.json()\n",
    "\n",
    "with open('output.json', 'w') as out:\n",
    "                json.dump(response.json(), out, sort_keys=True, indent='\\t')\n",
    "\n",
    "\n",
    "# Specify the path and name of the CSV file\n",
    "csv_file = 'herald2crusader_50.csv'\n",
    "\n",
    "# Extract the keys from the first item in the JSON response\n",
    "fieldnames = list(data[0].keys())\n",
    "\n",
    "# Write the data to the CSV file\n",
    "with open(csv_file, 'w', newline='',encoding = 'utf8') as outfile:\n",
    "    writer = csv.DictWriter(outfile, fieldnames=fieldnames)\n",
    "    writer.writeheader()\n",
    "    writer.writerows(data)\n",
    "\n",
    "print(\"CSV file saved successfully!\")"
   ]
  },
  {
   "cell_type": "code",
   "execution_count": 157,
   "id": "4a02604d",
   "metadata": {},
   "outputs": [
    {
     "name": "stdout",
     "output_type": "stream",
     "text": [
      "CSV files combined successfully!\n"
     ]
    }
   ],
   "source": [
    "\n",
    "import pandas as pd\n",
    "import glob\n",
    "\n",
    "# Specify the path and pattern of the CSV files to be combined\n",
    "csv_files_pattern = 'ancient2immortal_*.csv'\n",
    "\n",
    "# Create a list to store the data from all CSV files\n",
    "all_data = []\n",
    "\n",
    "# Get a list of all matching CSV files\n",
    "csv_files = glob.glob(csv_files_pattern)\n",
    "\n",
    "# Iterate over each CSV file\n",
    "for csv_file in csv_files:\n",
    "    # Read the current CSV file and append its data to the list\n",
    "    data = pd.read_csv(csv_file)\n",
    "    all_data.append(data)\n",
    "\n",
    "# Concatenate the data from all CSV files into a single DataFrame\n",
    "combined_data = pd.concat(all_data)\n",
    "\n",
    "# Specify the path and name of the combined CSV file\n",
    "combined_csv_file = 'combined_matchesa2i.csv'\n",
    "\n",
    "# Save the combined data to the CSV file\n",
    "combined_data.to_csv(combined_csv_file, index=False)\n",
    "\n",
    "print(\"CSV files combined successfully!\")"
   ]
  },
  {
   "cell_type": "code",
   "execution_count": 155,
   "id": "8968f3f6",
   "metadata": {},
   "outputs": [
    {
     "name": "stdout",
     "output_type": "stream",
     "text": [
      "CSV file saved successfully!\n"
     ]
    }
   ],
   "source": [
    "import requests\n",
    "import json\n",
    "import csv\n",
    "\n",
    "response = requests.get(\"https://api.opendota.com/api/publicMatches?min_rank=70&max_rank=85\")\n",
    "data = response.json()\n",
    "\n",
    "with open('output.json', 'w') as out:\n",
    "                json.dump(response.json(), out, sort_keys=True, indent='\\t')\n",
    "\n",
    "\n",
    "# Specify the path and name of the CSV file\n",
    "csv_file = 'ancient2immortal_50.csv'\n",
    "\n",
    "# Extract the keys from the first item in the JSON response\n",
    "fieldnames = list(data[0].keys())\n",
    "\n",
    "# Write the data to the CSV file\n",
    "with open(csv_file, 'w', newline='',encoding = 'utf8') as outfile:\n",
    "    writer = csv.DictWriter(outfile, fieldnames=fieldnames)\n",
    "    writer.writeheader()\n",
    "    writer.writerows(data)\n",
    "\n",
    "print(\"CSV file saved successfully!\")"
   ]
  },
  {
   "cell_type": "code",
   "execution_count": 1,
   "id": "c8bad587",
   "metadata": {},
   "outputs": [
    {
     "ename": "NameError",
     "evalue": "name 'combined_matchesa2i' is not defined",
     "output_type": "error",
     "traceback": [
      "\u001b[1;31m---------------------------------------------------------------------------\u001b[0m",
      "\u001b[1;31mNameError\u001b[0m                                 Traceback (most recent call last)",
      "Cell \u001b[1;32mIn[1], line 1\u001b[0m\n\u001b[1;32m----> 1\u001b[0m duration_dtype \u001b[38;5;241m=\u001b[39m \u001b[43mcombined_matchesa2i\u001b[49m[\u001b[38;5;124m'\u001b[39m\u001b[38;5;124mduration\u001b[39m\u001b[38;5;124m'\u001b[39m]\u001b[38;5;241m.\u001b[39mdtype\n\u001b[0;32m      2\u001b[0m \u001b[38;5;28mprint\u001b[39m(duration_dtype)\n",
      "\u001b[1;31mNameError\u001b[0m: name 'combined_matchesa2i' is not defined"
     ]
    }
   ],
   "source": [
    "duration_dtype = combined_matchesa2i['duration'].dtype\n",
    "print(duration_dtype)"
   ]
  },
  {
   "cell_type": "code",
   "execution_count": 5,
   "id": "4714b320",
   "metadata": {},
   "outputs": [],
   "source": [
    "import pandas as pd\n",
    "\n",
    "combined_matches = pd.read_csv('combined_matchesa2iroles.csv')"
   ]
  },
  {
   "cell_type": "code",
   "execution_count": 6,
   "id": "8f7b94d4",
   "metadata": {},
   "outputs": [
    {
     "name": "stdout",
     "output_type": "stream",
     "text": [
      "int64\n"
     ]
    }
   ],
   "source": [
    "duration_dtype = combined_matches['duration'].dtype\n",
    "print(duration_dtype)"
   ]
  },
  {
   "cell_type": "code",
   "execution_count": 9,
   "id": "ec2d822e",
   "metadata": {},
   "outputs": [
    {
     "name": "stdout",
     "output_type": "stream",
     "text": [
      "Duration converted and changes saved to 'combined_matchesa2i.csv'\n"
     ]
    }
   ],
   "source": [
    "combined_matches = pd.read_csv('combined_matchesa2iroles.csv')\n",
    "\n",
    "# Convert the 'duration' column from seconds to minutes\n",
    "combined_matches['duration'] = combined_matches['duration'] / 60\n",
    "\n",
    "# Save the updated DataFrame to 'combined_matchesa2i.csv'\n",
    "combined_matches.to_csv('combined_matchesa2iroles1.csv', index=False)\n",
    "\n",
    "# Print a confirmation message\n",
    "print(\"Duration converted and changes saved to 'combined_matchesa2i.csv'\")"
   ]
  },
  {
   "cell_type": "code",
   "execution_count": null,
   "id": "e2803616",
   "metadata": {},
   "outputs": [],
   "source": []
  }
 ],
 "metadata": {
  "kernelspec": {
   "display_name": "Python 3 (ipykernel)",
   "language": "python",
   "name": "python3"
  },
  "language_info": {
   "codemirror_mode": {
    "name": "ipython",
    "version": 3
   },
   "file_extension": ".py",
   "mimetype": "text/x-python",
   "name": "python",
   "nbconvert_exporter": "python",
   "pygments_lexer": "ipython3",
   "version": "3.8.16"
  }
 },
 "nbformat": 4,
 "nbformat_minor": 5
}
